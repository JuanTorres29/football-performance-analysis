{
 "cells": [
  {
   "cell_type": "code",
   "execution_count": 0,
   "metadata": {
    "application/vnd.databricks.v1+cell": {
     "cellMetadata": {
      "byteLimit": 2048000,
      "rowLimit": 10000
     },
     "inputWidgets": {},
     "nuid": "539e69d0-ebdc-4f8c-8326-e50a54829e1d",
     "showTitle": false,
     "tableResultSettingsMap": {},
     "title": ""
    }
   },
   "outputs": [
    {
     "output_type": "display_data",
     "data": {
      "application/vnd.databricks.v1+bamboolib_hint": "{\"pd.DataFrames\": [], \"version\": \"0.0.1\"}",
      "text/plain": []
     },
     "metadata": {},
     "output_type": "display_data"
    }
   ],
   "source": [
    "from pyspark.sql import SparkSession\n",
    "import pandas as pd"
   ]
  },
  {
   "cell_type": "code",
   "execution_count": 0,
   "metadata": {
    "application/vnd.databricks.v1+cell": {
     "cellMetadata": {
      "byteLimit": 2048000,
      "rowLimit": 10000
     },
     "inputWidgets": {},
     "nuid": "e0c49a3e-4c18-4589-9601-194ebfd2577a",
     "showTitle": false,
     "tableResultSettingsMap": {},
     "title": ""
    }
   },
   "outputs": [],
   "source": [
    "df = spark.read.format(\"csv\").option(\"header\", \"true\").load(\"dbfs:/FileStore/shared_uploads/juan***@****.edu.co/df_team_match_stats-1.csv\")"
   ]
  },
  {
   "cell_type": "code",
   "execution_count": 0,
   "metadata": {
    "application/vnd.databricks.v1+cell": {
     "cellMetadata": {
      "byteLimit": 2048000,
      "rowLimit": 10000
     },
     "inputWidgets": {},
     "nuid": "346791fd-04a3-4771-8ff3-7529b6acf99d",
     "showTitle": false,
     "tableResultSettingsMap": {},
     "title": ""
    }
   },
   "outputs": [],
   "source": [
    "df = df.toPandas()"
   ]
  },
  {
   "cell_type": "markdown",
   "metadata": {
    "application/vnd.databricks.v1+cell": {
     "cellMetadata": {
      "byteLimit": 2048000,
      "rowLimit": 10000
     },
     "inputWidgets": {},
     "nuid": "073fbfb5-466c-4f60-a1e1-2fbd86edaaec",
     "showTitle": false,
     "tableResultSettingsMap": {},
     "title": ""
    }
   },
   "source": [
    "## Exploración y preprocesamiento de los datos"
   ]
  },
  {
   "cell_type": "code",
   "execution_count": 0,
   "metadata": {
    "application/vnd.databricks.v1+cell": {
     "cellMetadata": {
      "byteLimit": 2048000,
      "rowLimit": 10000
     },
     "inputWidgets": {},
     "nuid": "8e50a657-ee9b-45c0-a7e5-783ef6207e57",
     "showTitle": false,
     "tableResultSettingsMap": {},
     "title": ""
    }
   },
   "outputs": [
    {
     "output_type": "stream",
     "name": "stdout",
     "output_type": "stream",
     "text": [
      "Out[4]: match_id                 object\nteam_id                  object\nwon_corners              object\natt_sv_low_centre        object\nwon_contest              object\ntotal_tackle             object\naerial_lost              object\npossession_percentage    object\naccurate_pass            object\ntotal_pass               object\ntotal_throws             object\nshot_off_target          object\ntotal_offside            object\nblocked_scoring_att      object\nontarget_scoring_att     object\naerial_won               object\natt_miss_left            object\ntotal_scoring_att        object\nfk_foul_lost             object\natt_miss_right           object\natt_goal_low_left        object\natt_goal_low_right       object\natt_sv_low_left          object\ngoals                    object\natt_pen_goal             object\natt_sv_high_centre       object\natt_goal_low_centre      object\natt_miss_high            object\natt_post_left            object\npost_scoring_att         object\natt_miss_high_right      object\natt_sv_high_right        object\natt_sv_low_right         object\natt_sv_high_left         object\natt_miss_high_left       object\natt_goal_high_right      object\natt_goal_high_left       object\natt_post_right           object\natt_goal_high_centre     object\npenalty_save             object\natt_post_high            object\ndtype: object"
     ]
    }
   ],
   "source": [
    "df.dtypes"
   ]
  },
  {
   "cell_type": "code",
   "execution_count": 0,
   "metadata": {
    "application/vnd.databricks.v1+cell": {
     "cellMetadata": {
      "byteLimit": 2048000,
      "rowLimit": 10000
     },
     "inputWidgets": {},
     "nuid": "1585cbb7-d0d4-4873-88a6-fe0de4a1542a",
     "showTitle": false,
     "tableResultSettingsMap": {},
     "title": ""
    }
   },
   "outputs": [],
   "source": [
    "# Listar las columnas a convertir\n",
    "columnas_a_convertir = df.columns\n",
    "\n",
    "# Intentar convertir cada columna a un tipo adecuado\n",
    "for columna in columnas_a_convertir:\n",
    "    df[columna] = pd.to_numeric(df[columna], errors='ignore')"
   ]
  },
  {
   "cell_type": "code",
   "execution_count": 0,
   "metadata": {
    "application/vnd.databricks.v1+cell": {
     "cellMetadata": {
      "byteLimit": 2048000,
      "rowLimit": 10000
     },
     "inputWidgets": {},
     "nuid": "c8dd7c8b-fe35-4916-ba1d-11e55a2362c3",
     "showTitle": false,
     "tableResultSettingsMap": {},
     "title": ""
    }
   },
   "outputs": [
    {
     "output_type": "stream",
     "name": "stdout",
     "output_type": "stream",
     "text": [
      "Out[6]: match_id                   int64\nteam_id                    int64\nwon_corners              float64\natt_sv_low_centre        float64\nwon_contest                int64\ntotal_tackle               int64\naerial_lost                int64\npossession_percentage    float64\naccurate_pass              int64\ntotal_pass                 int64\ntotal_throws               int64\nshot_off_target          float64\ntotal_offside            float64\nblocked_scoring_att      float64\nontarget_scoring_att     float64\naerial_won                 int64\natt_miss_left            float64\ntotal_scoring_att        float64\nfk_foul_lost               int64\natt_miss_right           float64\natt_goal_low_left        float64\natt_goal_low_right       float64\natt_sv_low_left          float64\ngoals                    float64\natt_pen_goal             float64\natt_sv_high_centre       float64\natt_goal_low_centre      float64\natt_miss_high            float64\natt_post_left            float64\npost_scoring_att         float64\natt_miss_high_right      float64\natt_sv_high_right        float64\natt_sv_low_right         float64\natt_sv_high_left         float64\natt_miss_high_left       float64\natt_goal_high_right      float64\natt_goal_high_left       float64\natt_post_right           float64\natt_goal_high_centre     float64\npenalty_save             float64\natt_post_high            float64\ndtype: object"
     ]
    }
   ],
   "source": [
    "df.dtypes"
   ]
  },
  {
   "cell_type": "code",
   "execution_count": 0,
   "metadata": {
    "application/vnd.databricks.v1+cell": {
     "cellMetadata": {
      "byteLimit": 2048000,
      "rowLimit": 10000
     },
     "inputWidgets": {},
     "nuid": "c52d950c-802f-4ddd-bbaf-09d23f10c08a",
     "showTitle": false,
     "tableResultSettingsMap": {},
     "title": ""
    }
   },
   "outputs": [
    {
     "output_type": "display_data",
     "data": {
      "text/html": [
       "<div>\n",
       "<style scoped>\n",
       "    .dataframe tbody tr th:only-of-type {\n",
       "        vertical-align: middle;\n",
       "    }\n",
       "\n",
       "    .dataframe tbody tr th {\n",
       "        vertical-align: top;\n",
       "    }\n",
       "\n",
       "    .dataframe thead th {\n",
       "        text-align: right;\n",
       "    }\n",
       "</style>\n",
       "<table border=\"1\" class=\"dataframe\">\n",
       "  <thead>\n",
       "    <tr style=\"text-align: right;\">\n",
       "      <th></th>\n",
       "      <th>match_id</th>\n",
       "      <th>team_id</th>\n",
       "      <th>won_corners</th>\n",
       "      <th>att_sv_low_centre</th>\n",
       "      <th>won_contest</th>\n",
       "      <th>total_tackle</th>\n",
       "      <th>aerial_lost</th>\n",
       "      <th>possession_percentage</th>\n",
       "      <th>accurate_pass</th>\n",
       "      <th>total_pass</th>\n",
       "      <th>...</th>\n",
       "      <th>att_sv_high_right</th>\n",
       "      <th>att_sv_low_right</th>\n",
       "      <th>att_sv_high_left</th>\n",
       "      <th>att_miss_high_left</th>\n",
       "      <th>att_goal_high_right</th>\n",
       "      <th>att_goal_high_left</th>\n",
       "      <th>att_post_right</th>\n",
       "      <th>att_goal_high_centre</th>\n",
       "      <th>penalty_save</th>\n",
       "      <th>att_post_high</th>\n",
       "    </tr>\n",
       "  </thead>\n",
       "  <tbody>\n",
       "    <tr>\n",
       "      <th>count</th>\n",
       "      <td>7.600000e+02</td>\n",
       "      <td>760.000000</td>\n",
       "      <td>744.000000</td>\n",
       "      <td>491.000000</td>\n",
       "      <td>760.000000</td>\n",
       "      <td>760.000000</td>\n",
       "      <td>760.000000</td>\n",
       "      <td>760.000000</td>\n",
       "      <td>760.000000</td>\n",
       "      <td>760.000000</td>\n",
       "      <td>...</td>\n",
       "      <td>96.000000</td>\n",
       "      <td>325.000000</td>\n",
       "      <td>110.000000</td>\n",
       "      <td>242.000000</td>\n",
       "      <td>83.000000</td>\n",
       "      <td>72.000000</td>\n",
       "      <td>39.000000</td>\n",
       "      <td>69.000000</td>\n",
       "      <td>21.0</td>\n",
       "      <td>64.000000</td>\n",
       "    </tr>\n",
       "    <tr>\n",
       "      <th>mean</th>\n",
       "      <td>1.190364e+06</td>\n",
       "      <td>93.050000</td>\n",
       "      <td>5.272849</td>\n",
       "      <td>1.751527</td>\n",
       "      <td>9.777632</td>\n",
       "      <td>16.386842</td>\n",
       "      <td>19.685526</td>\n",
       "      <td>50.000000</td>\n",
       "      <td>357.147368</td>\n",
       "      <td>453.150000</td>\n",
       "      <td>...</td>\n",
       "      <td>1.052083</td>\n",
       "      <td>1.418462</td>\n",
       "      <td>1.045455</td>\n",
       "      <td>1.181818</td>\n",
       "      <td>1.012048</td>\n",
       "      <td>1.055556</td>\n",
       "      <td>1.051282</td>\n",
       "      <td>1.043478</td>\n",
       "      <td>1.0</td>\n",
       "      <td>1.015625</td>\n",
       "    </tr>\n",
       "    <tr>\n",
       "      <th>std</th>\n",
       "      <td>1.097684e+02</td>\n",
       "      <td>81.872262</td>\n",
       "      <td>2.880671</td>\n",
       "      <td>0.995589</td>\n",
       "      <td>4.504049</td>\n",
       "      <td>5.028020</td>\n",
       "      <td>7.745953</td>\n",
       "      <td>13.497173</td>\n",
       "      <td>148.087116</td>\n",
       "      <td>145.276987</td>\n",
       "      <td>...</td>\n",
       "      <td>0.223361</td>\n",
       "      <td>0.687385</td>\n",
       "      <td>0.209252</td>\n",
       "      <td>0.446285</td>\n",
       "      <td>0.109764</td>\n",
       "      <td>0.230669</td>\n",
       "      <td>0.223456</td>\n",
       "      <td>0.205425</td>\n",
       "      <td>0.0</td>\n",
       "      <td>0.125000</td>\n",
       "    </tr>\n",
       "    <tr>\n",
       "      <th>min</th>\n",
       "      <td>1.190174e+06</td>\n",
       "      <td>13.000000</td>\n",
       "      <td>1.000000</td>\n",
       "      <td>1.000000</td>\n",
       "      <td>1.000000</td>\n",
       "      <td>4.000000</td>\n",
       "      <td>3.000000</td>\n",
       "      <td>17.100000</td>\n",
       "      <td>88.000000</td>\n",
       "      <td>169.000000</td>\n",
       "      <td>...</td>\n",
       "      <td>1.000000</td>\n",
       "      <td>1.000000</td>\n",
       "      <td>1.000000</td>\n",
       "      <td>1.000000</td>\n",
       "      <td>1.000000</td>\n",
       "      <td>1.000000</td>\n",
       "      <td>1.000000</td>\n",
       "      <td>1.000000</td>\n",
       "      <td>1.0</td>\n",
       "      <td>1.000000</td>\n",
       "    </tr>\n",
       "    <tr>\n",
       "      <th>25%</th>\n",
       "      <td>1.190269e+06</td>\n",
       "      <td>25.250000</td>\n",
       "      <td>3.000000</td>\n",
       "      <td>1.000000</td>\n",
       "      <td>7.000000</td>\n",
       "      <td>13.000000</td>\n",
       "      <td>14.000000</td>\n",
       "      <td>40.675000</td>\n",
       "      <td>251.000000</td>\n",
       "      <td>354.000000</td>\n",
       "      <td>...</td>\n",
       "      <td>1.000000</td>\n",
       "      <td>1.000000</td>\n",
       "      <td>1.000000</td>\n",
       "      <td>1.000000</td>\n",
       "      <td>1.000000</td>\n",
       "      <td>1.000000</td>\n",
       "      <td>1.000000</td>\n",
       "      <td>1.000000</td>\n",
       "      <td>1.0</td>\n",
       "      <td>1.000000</td>\n",
       "    </tr>\n",
       "    <tr>\n",
       "      <th>50%</th>\n",
       "      <td>1.190364e+06</td>\n",
       "      <td>31.500000</td>\n",
       "      <td>5.000000</td>\n",
       "      <td>1.000000</td>\n",
       "      <td>9.000000</td>\n",
       "      <td>16.000000</td>\n",
       "      <td>19.000000</td>\n",
       "      <td>50.000000</td>\n",
       "      <td>329.000000</td>\n",
       "      <td>426.000000</td>\n",
       "      <td>...</td>\n",
       "      <td>1.000000</td>\n",
       "      <td>1.000000</td>\n",
       "      <td>1.000000</td>\n",
       "      <td>1.000000</td>\n",
       "      <td>1.000000</td>\n",
       "      <td>1.000000</td>\n",
       "      <td>1.000000</td>\n",
       "      <td>1.000000</td>\n",
       "      <td>1.0</td>\n",
       "      <td>1.000000</td>\n",
       "    </tr>\n",
       "    <tr>\n",
       "      <th>75%</th>\n",
       "      <td>1.190458e+06</td>\n",
       "      <td>169.000000</td>\n",
       "      <td>7.000000</td>\n",
       "      <td>2.000000</td>\n",
       "      <td>12.000000</td>\n",
       "      <td>19.250000</td>\n",
       "      <td>24.000000</td>\n",
       "      <td>59.325000</td>\n",
       "      <td>436.500000</td>\n",
       "      <td>539.000000</td>\n",
       "      <td>...</td>\n",
       "      <td>1.000000</td>\n",
       "      <td>2.000000</td>\n",
       "      <td>1.000000</td>\n",
       "      <td>1.000000</td>\n",
       "      <td>1.000000</td>\n",
       "      <td>1.000000</td>\n",
       "      <td>1.000000</td>\n",
       "      <td>1.000000</td>\n",
       "      <td>1.0</td>\n",
       "      <td>1.000000</td>\n",
       "    </tr>\n",
       "    <tr>\n",
       "      <th>max</th>\n",
       "      <td>1.190553e+06</td>\n",
       "      <td>259.000000</td>\n",
       "      <td>18.000000</td>\n",
       "      <td>6.000000</td>\n",
       "      <td>28.000000</td>\n",
       "      <td>34.000000</td>\n",
       "      <td>63.000000</td>\n",
       "      <td>82.900000</td>\n",
       "      <td>942.000000</td>\n",
       "      <td>1015.000000</td>\n",
       "      <td>...</td>\n",
       "      <td>2.000000</td>\n",
       "      <td>5.000000</td>\n",
       "      <td>2.000000</td>\n",
       "      <td>3.000000</td>\n",
       "      <td>2.000000</td>\n",
       "      <td>2.000000</td>\n",
       "      <td>2.000000</td>\n",
       "      <td>2.000000</td>\n",
       "      <td>1.0</td>\n",
       "      <td>2.000000</td>\n",
       "    </tr>\n",
       "  </tbody>\n",
       "</table>\n",
       "<p>8 rows × 41 columns</p>\n",
       "</div>"
      ]
     },
     "metadata": {
      "application/vnd.databricks.v1+output": {
       "addedWidgets": {},
       "arguments": {},
       "data": "<div>\n<style scoped>\n    .dataframe tbody tr th:only-of-type {\n        vertical-align: middle;\n    }\n\n    .dataframe tbody tr th {\n        vertical-align: top;\n    }\n\n    .dataframe thead th {\n        text-align: right;\n    }\n</style>\n<table border=\"1\" class=\"dataframe\">\n  <thead>\n    <tr style=\"text-align: right;\">\n      <th></th>\n      <th>match_id</th>\n      <th>team_id</th>\n      <th>won_corners</th>\n      <th>att_sv_low_centre</th>\n      <th>won_contest</th>\n      <th>total_tackle</th>\n      <th>aerial_lost</th>\n      <th>possession_percentage</th>\n      <th>accurate_pass</th>\n      <th>total_pass</th>\n      <th>...</th>\n      <th>att_sv_high_right</th>\n      <th>att_sv_low_right</th>\n      <th>att_sv_high_left</th>\n      <th>att_miss_high_left</th>\n      <th>att_goal_high_right</th>\n      <th>att_goal_high_left</th>\n      <th>att_post_right</th>\n      <th>att_goal_high_centre</th>\n      <th>penalty_save</th>\n      <th>att_post_high</th>\n    </tr>\n  </thead>\n  <tbody>\n    <tr>\n      <th>count</th>\n      <td>7.600000e+02</td>\n      <td>760.000000</td>\n      <td>744.000000</td>\n      <td>491.000000</td>\n      <td>760.000000</td>\n      <td>760.000000</td>\n      <td>760.000000</td>\n      <td>760.000000</td>\n      <td>760.000000</td>\n      <td>760.000000</td>\n      <td>...</td>\n      <td>96.000000</td>\n      <td>325.000000</td>\n      <td>110.000000</td>\n      <td>242.000000</td>\n      <td>83.000000</td>\n      <td>72.000000</td>\n      <td>39.000000</td>\n      <td>69.000000</td>\n      <td>21.0</td>\n      <td>64.000000</td>\n    </tr>\n    <tr>\n      <th>mean</th>\n      <td>1.190364e+06</td>\n      <td>93.050000</td>\n      <td>5.272849</td>\n      <td>1.751527</td>\n      <td>9.777632</td>\n      <td>16.386842</td>\n      <td>19.685526</td>\n      <td>50.000000</td>\n      <td>357.147368</td>\n      <td>453.150000</td>\n      <td>...</td>\n      <td>1.052083</td>\n      <td>1.418462</td>\n      <td>1.045455</td>\n      <td>1.181818</td>\n      <td>1.012048</td>\n      <td>1.055556</td>\n      <td>1.051282</td>\n      <td>1.043478</td>\n      <td>1.0</td>\n      <td>1.015625</td>\n    </tr>\n    <tr>\n      <th>std</th>\n      <td>1.097684e+02</td>\n      <td>81.872262</td>\n      <td>2.880671</td>\n      <td>0.995589</td>\n      <td>4.504049</td>\n      <td>5.028020</td>\n      <td>7.745953</td>\n      <td>13.497173</td>\n      <td>148.087116</td>\n      <td>145.276987</td>\n      <td>...</td>\n      <td>0.223361</td>\n      <td>0.687385</td>\n      <td>0.209252</td>\n      <td>0.446285</td>\n      <td>0.109764</td>\n      <td>0.230669</td>\n      <td>0.223456</td>\n      <td>0.205425</td>\n      <td>0.0</td>\n      <td>0.125000</td>\n    </tr>\n    <tr>\n      <th>min</th>\n      <td>1.190174e+06</td>\n      <td>13.000000</td>\n      <td>1.000000</td>\n      <td>1.000000</td>\n      <td>1.000000</td>\n      <td>4.000000</td>\n      <td>3.000000</td>\n      <td>17.100000</td>\n      <td>88.000000</td>\n      <td>169.000000</td>\n      <td>...</td>\n      <td>1.000000</td>\n      <td>1.000000</td>\n      <td>1.000000</td>\n      <td>1.000000</td>\n      <td>1.000000</td>\n      <td>1.000000</td>\n      <td>1.000000</td>\n      <td>1.000000</td>\n      <td>1.0</td>\n      <td>1.000000</td>\n    </tr>\n    <tr>\n      <th>25%</th>\n      <td>1.190269e+06</td>\n      <td>25.250000</td>\n      <td>3.000000</td>\n      <td>1.000000</td>\n      <td>7.000000</td>\n      <td>13.000000</td>\n      <td>14.000000</td>\n      <td>40.675000</td>\n      <td>251.000000</td>\n      <td>354.000000</td>\n      <td>...</td>\n      <td>1.000000</td>\n      <td>1.000000</td>\n      <td>1.000000</td>\n      <td>1.000000</td>\n      <td>1.000000</td>\n      <td>1.000000</td>\n      <td>1.000000</td>\n      <td>1.000000</td>\n      <td>1.0</td>\n      <td>1.000000</td>\n    </tr>\n    <tr>\n      <th>50%</th>\n      <td>1.190364e+06</td>\n      <td>31.500000</td>\n      <td>5.000000</td>\n      <td>1.000000</td>\n      <td>9.000000</td>\n      <td>16.000000</td>\n      <td>19.000000</td>\n      <td>50.000000</td>\n      <td>329.000000</td>\n      <td>426.000000</td>\n      <td>...</td>\n      <td>1.000000</td>\n      <td>1.000000</td>\n      <td>1.000000</td>\n      <td>1.000000</td>\n      <td>1.000000</td>\n      <td>1.000000</td>\n      <td>1.000000</td>\n      <td>1.000000</td>\n      <td>1.0</td>\n      <td>1.000000</td>\n    </tr>\n    <tr>\n      <th>75%</th>\n      <td>1.190458e+06</td>\n      <td>169.000000</td>\n      <td>7.000000</td>\n      <td>2.000000</td>\n      <td>12.000000</td>\n      <td>19.250000</td>\n      <td>24.000000</td>\n      <td>59.325000</td>\n      <td>436.500000</td>\n      <td>539.000000</td>\n      <td>...</td>\n      <td>1.000000</td>\n      <td>2.000000</td>\n      <td>1.000000</td>\n      <td>1.000000</td>\n      <td>1.000000</td>\n      <td>1.000000</td>\n      <td>1.000000</td>\n      <td>1.000000</td>\n      <td>1.0</td>\n      <td>1.000000</td>\n    </tr>\n    <tr>\n      <th>max</th>\n      <td>1.190553e+06</td>\n      <td>259.000000</td>\n      <td>18.000000</td>\n      <td>6.000000</td>\n      <td>28.000000</td>\n      <td>34.000000</td>\n      <td>63.000000</td>\n      <td>82.900000</td>\n      <td>942.000000</td>\n      <td>1015.000000</td>\n      <td>...</td>\n      <td>2.000000</td>\n      <td>5.000000</td>\n      <td>2.000000</td>\n      <td>3.000000</td>\n      <td>2.000000</td>\n      <td>2.000000</td>\n      <td>2.000000</td>\n      <td>2.000000</td>\n      <td>1.0</td>\n      <td>2.000000</td>\n    </tr>\n  </tbody>\n</table>\n<p>8 rows × 41 columns</p>\n</div>",
       "datasetInfos": [],
       "metadata": {},
       "removedWidgets": [],
       "textData": null,
       "type": "htmlSandbox"
      }
     },
     "output_type": "display_data"
    }
   ],
   "source": [
    "df.describe()"
   ]
  },
  {
   "cell_type": "code",
   "execution_count": 0,
   "metadata": {
    "application/vnd.databricks.v1+cell": {
     "cellMetadata": {
      "byteLimit": 2048000,
      "rowLimit": 10000
     },
     "inputWidgets": {},
     "nuid": "cc7e0a86-0d8a-42c2-bf62-f3fbb10f281f",
     "showTitle": false,
     "tableResultSettingsMap": {},
     "title": ""
    }
   },
   "outputs": [
    {
     "output_type": "stream",
     "name": "stdout",
     "output_type": "stream",
     "text": [
      "Out[8]: match_id                   0\nteam_id                    0\nwon_corners               16\natt_sv_low_centre        269\nwon_contest                0\ntotal_tackle               0\naerial_lost                0\npossession_percentage      0\naccurate_pass              0\ntotal_pass                 0\ntotal_throws               0\nshot_off_target           11\ntotal_offside            134\nblocked_scoring_att       69\nontarget_scoring_att      27\naerial_won                 0\natt_miss_left            210\ntotal_scoring_att          1\nfk_foul_lost               0\natt_miss_right           215\natt_goal_low_left        526\natt_goal_low_right       528\natt_sv_low_left          419\ngoals                    226\natt_pen_goal             706\natt_sv_high_centre       587\natt_goal_low_centre      604\natt_miss_high            290\natt_post_left            718\npost_scoring_att         621\natt_miss_high_right      491\natt_sv_high_right        664\natt_sv_low_right         435\natt_sv_high_left         650\natt_miss_high_left       518\natt_goal_high_right      677\natt_goal_high_left       688\natt_post_right           721\natt_goal_high_centre     691\npenalty_save             739\natt_post_high            696\ndtype: int64"
     ]
    }
   ],
   "source": [
    "df.isnull().sum()"
   ]
  },
  {
   "cell_type": "code",
   "execution_count": 0,
   "metadata": {
    "application/vnd.databricks.v1+cell": {
     "cellMetadata": {
      "byteLimit": 2048000,
      "rowLimit": 10000
     },
     "inputWidgets": {},
     "nuid": "ea28fd3f-4184-4314-a884-6991783ec7b5",
     "showTitle": false,
     "tableResultSettingsMap": {},
     "title": ""
    }
   },
   "outputs": [],
   "source": [
    "df.fillna(0, inplace=True)"
   ]
  },
  {
   "cell_type": "code",
   "execution_count": 0,
   "metadata": {
    "application/vnd.databricks.v1+cell": {
     "cellMetadata": {
      "byteLimit": 2048000,
      "rowLimit": 10000
     },
     "inputWidgets": {},
     "nuid": "e32b228d-ca0d-4a3d-b379-6c5d5c300145",
     "showTitle": false,
     "tableResultSettingsMap": {},
     "title": ""
    }
   },
   "outputs": [],
   "source": [
    "# Creamos la variable objetivo (1 = gana o empata, 0 = pierde)\n",
    "\n",
    "results = []\n",
    "for i in range(0, len(df), 2):\n",
    "    if i + 1 < len(df):\n",
    "        team1_goals = df.iloc[i]['goals']\n",
    "        team2_goals = df.iloc[i + 1]['goals']\n",
    "        if team1_goals > team2_goals:\n",
    "            results.append(1)\n",
    "            results.append(0)\n",
    "        elif team1_goals < team2_goals:\n",
    "            results.append(0)\n",
    "            results.append(1)\n",
    "        else:\n",
    "            results.append(1)\n",
    "            results.append(1)\n",
    "    else:\n",
    "        results.append(None)\n",
    "\n",
    "df['result'] = results"
   ]
  },
  {
   "cell_type": "code",
   "execution_count": 0,
   "metadata": {
    "application/vnd.databricks.v1+cell": {
     "cellMetadata": {
      "byteLimit": 2048000,
      "rowLimit": 10000
     },
     "inputWidgets": {},
     "nuid": "01db497b-23c7-4cde-bce1-0c3196e942ec",
     "showTitle": false,
     "tableResultSettingsMap": {},
     "title": ""
    }
   },
   "outputs": [
    {
     "output_type": "display_data",
     "data": {
      "text/html": [
       "<div>\n",
       "<style scoped>\n",
       "    .dataframe tbody tr th:only-of-type {\n",
       "        vertical-align: middle;\n",
       "    }\n",
       "\n",
       "    .dataframe tbody tr th {\n",
       "        vertical-align: top;\n",
       "    }\n",
       "\n",
       "    .dataframe thead th {\n",
       "        text-align: right;\n",
       "    }\n",
       "</style>\n",
       "<table border=\"1\" class=\"dataframe\">\n",
       "  <thead>\n",
       "    <tr style=\"text-align: right;\">\n",
       "      <th></th>\n",
       "      <th>goals</th>\n",
       "      <th>result</th>\n",
       "    </tr>\n",
       "  </thead>\n",
       "  <tbody>\n",
       "    <tr>\n",
       "      <th>0</th>\n",
       "      <td>0.0</td>\n",
       "      <td>0</td>\n",
       "    </tr>\n",
       "    <tr>\n",
       "      <th>1</th>\n",
       "      <td>3.0</td>\n",
       "      <td>1</td>\n",
       "    </tr>\n",
       "    <tr>\n",
       "      <th>2</th>\n",
       "      <td>2.0</td>\n",
       "      <td>1</td>\n",
       "    </tr>\n",
       "    <tr>\n",
       "      <th>3</th>\n",
       "      <td>2.0</td>\n",
       "      <td>1</td>\n",
       "    </tr>\n",
       "    <tr>\n",
       "      <th>4</th>\n",
       "      <td>0.0</td>\n",
       "      <td>1</td>\n",
       "    </tr>\n",
       "    <tr>\n",
       "      <th>5</th>\n",
       "      <td>0.0</td>\n",
       "      <td>1</td>\n",
       "    </tr>\n",
       "    <tr>\n",
       "      <th>6</th>\n",
       "      <td>5.0</td>\n",
       "      <td>1</td>\n",
       "    </tr>\n",
       "    <tr>\n",
       "      <th>7</th>\n",
       "      <td>0.0</td>\n",
       "      <td>0</td>\n",
       "    </tr>\n",
       "    <tr>\n",
       "      <th>8</th>\n",
       "      <td>0.0</td>\n",
       "      <td>0</td>\n",
       "    </tr>\n",
       "    <tr>\n",
       "      <th>9</th>\n",
       "      <td>3.0</td>\n",
       "      <td>1</td>\n",
       "    </tr>\n",
       "  </tbody>\n",
       "</table>\n",
       "</div>"
      ]
     },
     "metadata": {
      "application/vnd.databricks.v1+output": {
       "addedWidgets": {},
       "arguments": {},
       "data": "<div>\n<style scoped>\n    .dataframe tbody tr th:only-of-type {\n        vertical-align: middle;\n    }\n\n    .dataframe tbody tr th {\n        vertical-align: top;\n    }\n\n    .dataframe thead th {\n        text-align: right;\n    }\n</style>\n<table border=\"1\" class=\"dataframe\">\n  <thead>\n    <tr style=\"text-align: right;\">\n      <th></th>\n      <th>goals</th>\n      <th>result</th>\n    </tr>\n  </thead>\n  <tbody>\n    <tr>\n      <th>0</th>\n      <td>0.0</td>\n      <td>0</td>\n    </tr>\n    <tr>\n      <th>1</th>\n      <td>3.0</td>\n      <td>1</td>\n    </tr>\n    <tr>\n      <th>2</th>\n      <td>2.0</td>\n      <td>1</td>\n    </tr>\n    <tr>\n      <th>3</th>\n      <td>2.0</td>\n      <td>1</td>\n    </tr>\n    <tr>\n      <th>4</th>\n      <td>0.0</td>\n      <td>1</td>\n    </tr>\n    <tr>\n      <th>5</th>\n      <td>0.0</td>\n      <td>1</td>\n    </tr>\n    <tr>\n      <th>6</th>\n      <td>5.0</td>\n      <td>1</td>\n    </tr>\n    <tr>\n      <th>7</th>\n      <td>0.0</td>\n      <td>0</td>\n    </tr>\n    <tr>\n      <th>8</th>\n      <td>0.0</td>\n      <td>0</td>\n    </tr>\n    <tr>\n      <th>9</th>\n      <td>3.0</td>\n      <td>1</td>\n    </tr>\n  </tbody>\n</table>\n</div>",
       "datasetInfos": [],
       "metadata": {},
       "removedWidgets": [],
       "textData": null,
       "type": "htmlSandbox"
      }
     },
     "output_type": "display_data"
    }
   ],
   "source": [
    "df[[\"goals\", \"result\"]].head(10)"
   ]
  },
  {
   "cell_type": "code",
   "execution_count": 0,
   "metadata": {
    "application/vnd.databricks.v1+cell": {
     "cellMetadata": {
      "byteLimit": 2048000,
      "rowLimit": 10000
     },
     "inputWidgets": {},
     "nuid": "6b36dc87-d1db-4d26-b6ad-8919d9dfea94",
     "showTitle": false,
     "tableResultSettingsMap": {},
     "title": ""
    }
   },
   "outputs": [
    {
     "output_type": "stream",
     "name": "stdout",
     "output_type": "stream",
     "text": [
      "Out[12]: 0"
     ]
    }
   ],
   "source": [
    "df[\"result\"].isnull().sum()"
   ]
  },
  {
   "cell_type": "code",
   "execution_count": 0,
   "metadata": {
    "application/vnd.databricks.v1+cell": {
     "cellMetadata": {
      "byteLimit": 2048000,
      "rowLimit": 10000
     },
     "inputWidgets": {},
     "nuid": "197452b3-d0f7-44a0-892c-b0287b6f48a1",
     "showTitle": false,
     "tableResultSettingsMap": {},
     "title": ""
    }
   },
   "outputs": [],
   "source": [
    "# Lista de columnas a eliminar\n",
    "columns_to_drop = [\n",
    "    'match_id', 'team_id', 'goals', 'ontarget_scoring_att',\n",
    "    'att_goal_low_left', 'att_goal_low_right', 'att_goal_low_centre',\n",
    "    'att_goal_high_left', 'att_goal_high_right', 'att_goal_high_centre',\n",
    "    'att_pen_goal', 'att_post_left', 'att_post_right', 'att_post_high',\n",
    "    'penalty_save', 'att_sv_low_centre', 'shot_off_target', 'blocked_scoring_att', 'total_scoring_att', 'att_sv_low_left', 'att_sv_high_centre', 'post_scoring_att', 'att_sv_high_right', 'att_sv_low_right', 'att_sv_high_left', 'att_miss_left', 'att_miss_right', 'att_miss_high_right', 'att_miss_high_left'\n",
    "]\n",
    "\n",
    "# Eliminar columnas del DataFrame\n",
    "df_clean = df.drop(columns=columns_to_drop)"
   ]
  },
  {
   "cell_type": "markdown",
   "metadata": {
    "application/vnd.databricks.v1+cell": {
     "cellMetadata": {
      "byteLimit": 2048000,
      "rowLimit": 10000
     },
     "inputWidgets": {},
     "nuid": "7047fd0d-09d3-42ee-b93c-20b7a1799d84",
     "showTitle": false,
     "tableResultSettingsMap": {},
     "title": ""
    }
   },
   "source": [
    "## Regresión Logística"
   ]
  },
  {
   "cell_type": "code",
   "execution_count": 0,
   "metadata": {
    "application/vnd.databricks.v1+cell": {
     "cellMetadata": {
      "byteLimit": 2048000,
      "rowLimit": 10000
     },
     "inputWidgets": {},
     "nuid": "15761cdc-ca3b-42aa-9873-67c6d7dc641c",
     "showTitle": false,
     "tableResultSettingsMap": {},
     "title": ""
    }
   },
   "outputs": [],
   "source": [
    "# Convertir la variable objetivo ('result') en categórica\n",
    "df_clean['result'] = df_clean['result'].astype('category')"
   ]
  },
  {
   "cell_type": "code",
   "execution_count": 0,
   "metadata": {
    "application/vnd.databricks.v1+cell": {
     "cellMetadata": {
      "byteLimit": 2048000,
      "rowLimit": 10000
     },
     "inputWidgets": {},
     "nuid": "785f0a39-1f9a-41a9-8b22-0954ccddf42e",
     "showTitle": false,
     "tableResultSettingsMap": {},
     "title": ""
    }
   },
   "outputs": [],
   "source": [
    "import pandas as pd\n",
    "from sklearn.linear_model import LogisticRegression\n",
    "from sklearn.feature_selection import RFE\n",
    "from sklearn.model_selection import train_test_split\n",
    "from sklearn.metrics import classification_report, accuracy_score, roc_auc_score\n",
    "from sklearn.metrics import confusion_matrix, ConfusionMatrixDisplay, classification_report"
   ]
  },
  {
   "cell_type": "code",
   "execution_count": 0,
   "metadata": {
    "application/vnd.databricks.v1+cell": {
     "cellMetadata": {
      "byteLimit": 2048000,
      "rowLimit": 10000
     },
     "inputWidgets": {},
     "nuid": "41af7582-1846-4424-be3b-897a363e879e",
     "showTitle": false,
     "tableResultSettingsMap": {},
     "title": ""
    }
   },
   "outputs": [],
   "source": [
    "# Dividir en variables independientes (X) y variable dependiente (y)\n",
    "X = df_clean.drop(columns=['result'])\n",
    "y = df_clean['result']\n",
    "\n",
    "# Dividir en conjuntos de entrenamiento y prueba\n",
    "X_train, X_test, y_train, y_test = train_test_split(X, y, test_size=0.25, random_state=1, stratify=y)"
   ]
  },
  {
   "cell_type": "code",
   "execution_count": 0,
   "metadata": {
    "application/vnd.databricks.v1+cell": {
     "cellMetadata": {
      "byteLimit": 2048000,
      "rowLimit": 10000
     },
     "inputWidgets": {},
     "nuid": "22345c87-db9d-4692-9b6c-3c18f480820e",
     "showTitle": false,
     "tableResultSettingsMap": {},
     "title": ""
    }
   },
   "outputs": [
    {
     "output_type": "stream",
     "name": "stdout",
     "output_type": "stream",
     "text": [
      "\nResultados de las métricas:\n      C     penalty  f1_score  precision    recall        error\n0   0.1          l2  0.590961   0.634997  0.652632  Sin errores\n1   0.1          l1  0.590961   0.634997  0.652632  Sin errores\n2   0.1  elasticnet  0.599461   0.644048  0.657895  Sin errores\n3   1.0          l2  0.590961   0.634997  0.652632  Sin errores\n4   1.0          l1  0.599461   0.644048  0.657895  Sin errores\n5   1.0  elasticnet  0.603356   0.655502  0.663158  Sin errores\n6  10.0          l2  0.590961   0.634997  0.652632  Sin errores\n7  10.0          l1  0.603878   0.642105  0.657895  Sin errores\n8  10.0  elasticnet  0.603356   0.655502  0.663158  Sin errores\n"
     ]
    },
    {
     "output_type": "stream",
     "name": "stderr",
     "output_type": "stream",
     "text": [
      "/databricks/python/lib/python3.9/site-packages/sklearn/linear_model/_sag.py:352: ConvergenceWarning: The max_iter was reached which means the coef_ did not converge\n  warnings.warn(\n"
     ]
    }
   ],
   "source": [
    "import matplotlib.pyplot as plt\n",
    "import numpy as np\n",
    "\n",
    "# Definir hiperparámetros para variar\n",
    "param_grid = {\n",
    "    'C': [0.1, 1, 10],  # Regularización\n",
    "    'penalty': ['l2', 'l1', 'elasticnet']  # Tipo de penalización\n",
    "}\n",
    "\n",
    "# Inicializar una tabla para almacenar resultados\n",
    "results = []\n",
    "\n",
    "# Entrenar modelos con diferentes combinaciones de hiperparámetros\n",
    "for C in param_grid['C']:\n",
    "    for penalty in param_grid['penalty']:\n",
    "        try:\n",
    "            # Verificar compatibilidad\n",
    "            if penalty == \"elasticnet\":\n",
    "                solver = \"saga\"\n",
    "                l1_ratio = 0.5\n",
    "            elif penalty == \"l1\":\n",
    "                solver = \"liblinear\"\n",
    "                l1_ratio = None\n",
    "            else:\n",
    "                solver = \"lbfgs\"\n",
    "                l1_ratio = None\n",
    "            \n",
    "            # Entrenar modelo\n",
    "            logit_model = LogisticRegression(max_iter=1000, random_state=1, C=C, penalty=penalty, solver=solver, l1_ratio=l1_ratio)\n",
    "            logit_model.fit(X_train, y_train)\n",
    "            \n",
    "            # Predicciones\n",
    "            y_pred = logit_model.predict(X_test)\n",
    "            \n",
    "            # Generar reporte de clasificación\n",
    "            report = classification_report(y_test, y_pred, output_dict=True)\n",
    "            \n",
    "            # Guardar métricas en una lista\n",
    "            results.append({\n",
    "                'C': C,\n",
    "                'penalty': penalty,\n",
    "                'f1_score': report['weighted avg']['f1-score'],\n",
    "                'precision': report['weighted avg']['precision'],\n",
    "                'recall': report['weighted avg']['recall'],\n",
    "                'error': None\n",
    "            })\n",
    "        except Exception as e:\n",
    "            # Manejar configuraciones incompatibles\n",
    "            results.append({\n",
    "                'C': C,\n",
    "                'penalty': penalty,\n",
    "                'f1_score': np.nan,\n",
    "                'precision': np.nan,\n",
    "                'recall': np.nan,\n",
    "                'error': \"Configuración incompatible\"\n",
    "            })\n",
    "\n",
    "# Convertir resultados a DataFrame\n",
    "results_df = pd.DataFrame(results)\n",
    "\n",
    "# Limpiar columnas de error\n",
    "results_df['error'] = results_df['error'].fillna('Sin errores')\n",
    "\n",
    "# Mostrar los resultados\n",
    "print(\"\\nResultados de las métricas:\")\n",
    "print(results_df)\n",
    "\n",
    "# Guardar los resultados como archivo CSV si es necesario\n",
    "results_df.to_csv(\"logistic_regression_metrics_clean.csv\", index=False)\n"
   ]
  },
  {
   "cell_type": "code",
   "execution_count": 0,
   "metadata": {
    "application/vnd.databricks.v1+cell": {
     "cellMetadata": {
      "byteLimit": 2048000,
      "rowLimit": 10000
     },
     "inputWidgets": {},
     "nuid": "44afe9fd-b191-41f3-b995-043d0c315664",
     "showTitle": false,
     "tableResultSettingsMap": {},
     "title": ""
    }
   },
   "outputs": [
    {
     "output_type": "stream",
     "name": "stderr",
     "output_type": "stream",
     "text": [
      "/databricks/python/lib/python3.9/site-packages/sklearn/linear_model/_sag.py:352: ConvergenceWarning: The max_iter was reached which means the coef_ did not converge\n  warnings.warn(\n"
     ]
    },
    {
     "output_type": "display_data",
     "data": {
      "image/png": "[encoded data removed]"
     },
     "metadata": {
      "application/vnd.databricks.v1+output": {
       "addedWidgets": {},
       "arguments": {},
       "data": "data:image/png;base64,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\n",
       "datasetInfos": [],
       "metadata": {},
       "removedWidgets": [],
       "type": "image"
      }
     },
     "output_type": "display_data"
    },
    {
     "output_type": "stream",
     "name": "stdout",
     "output_type": "stream",
     "text": [
      "\nCoeficientes del modelo:\n   feature_0  feature_1  feature_2  feature_3  feature_4  feature_5  \\\n0   0.001931   0.003895   0.003375  -0.014371   0.020545   0.016891   \n\n   feature_6  feature_7  feature_8  feature_9  feature_10  feature_11  \n0   -0.01563  -0.012734    0.00828   0.058333   -0.009714    0.001391  \n"
     ]
    }
   ],
   "source": [
    "from sklearn.metrics import roc_curve, roc_auc_score\n",
    "\n",
    "# Definir el modelo elegido\n",
    "C_best = 10.0\n",
    "penalty_best = 'elasticnet'\n",
    "solver_best = 'saga'\n",
    "l1_ratio_best = 0.5  # ElasticNet requiere este parámetro\n",
    "\n",
    "# Entrenar el modelo\n",
    "best_model = LogisticRegression(\n",
    "    max_iter=1000,\n",
    "    random_state=1,\n",
    "    C=C_best,\n",
    "    penalty=penalty_best,\n",
    "    solver=solver_best,\n",
    "    l1_ratio=l1_ratio_best\n",
    ")\n",
    "best_model.fit(X_train, y_train)\n",
    "\n",
    "# Obtener los coeficientes\n",
    "coeficientes = best_model.coef_\n",
    "\n",
    "# Calcular probabilidades para la curva ROC\n",
    "y_proba = best_model.predict_proba(X_test)[:, 1]\n",
    "\n",
    "# Calcular el AUC\n",
    "auc = roc_auc_score(y_test, y_proba)\n",
    "\n",
    "# Generar la curva ROC\n",
    "fpr, tpr, thresholds = roc_curve(y_test, y_proba)\n",
    "\n",
    "# Graficar la curva ROC\n",
    "plt.figure()\n",
    "plt.plot(fpr, tpr, label=f\"Modelo (AUC = {auc:.2f})\")\n",
    "plt.plot([0, 1], [0, 1], 'k--', label=\"AUC = 0.5 (aleatorio)\")\n",
    "plt.xlabel(\"Tasa de Falsos Positivos (FPR)\")\n",
    "plt.ylabel(\"Tasa de Verdaderos Positivos (TPR)\")\n",
    "plt.title(\"Curva ROC\")\n",
    "plt.legend(loc=\"lower right\")\n",
    "plt.grid()\n",
    "plt.show()\n",
    "\n",
    "# Mostrar coeficientes\n",
    "coef_df = pd.DataFrame(coeficientes, columns=[f\"feature_{i}\" for i in range(X_train.shape[1])])\n",
    "print(\"\\nCoeficientes del modelo:\")\n",
    "print(coef_df)"
   ]
  },
  {
   "cell_type": "markdown",
   "metadata": {
    "application/vnd.databricks.v1+cell": {
     "cellMetadata": {
      "byteLimit": 2048000,
      "rowLimit": 10000
     },
     "inputWidgets": {},
     "nuid": "bd41cbb6-16ac-4c8e-9690-e3b19c452ca3",
     "showTitle": false,
     "tableResultSettingsMap": {},
     "title": ""
    }
   },
   "source": [
    "## Arbol de Decisión"
   ]
  },
  {
   "cell_type": "code",
   "execution_count": 0,
   "metadata": {
    "application/vnd.databricks.v1+cell": {
     "cellMetadata": {
      "byteLimit": 2048000,
      "rowLimit": 10000
     },
     "inputWidgets": {},
     "nuid": "10082159-48ca-4e17-be31-95b5677f030f",
     "showTitle": false,
     "tableResultSettingsMap": {},
     "title": ""
    }
   },
   "outputs": [
    {
     "output_type": "display_data",
     "data": {
      "image/png": "[encoded data removed]"
     },
     "metadata": {
      "application/vnd.databricks.v1+output": {
       "addedWidgets": {},
       "arguments": {},
       "data": "data:image/png;base64,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\n",
       "datasetInfos": [],
       "metadata": {},
       "removedWidgets": [],
       "type": "image"
      }
     },
     "output_type": "display_data"
    },
    {
     "output_type": "stream",
     "name": "stdout",
     "output_type": "stream",
     "text": [
      "\nMetrics Table:\n              precision    recall  f1-score     support\n0              0.513889  0.528571  0.521127   70.000000\n1              0.720339  0.708333  0.714286  120.000000\naccuracy       0.642105  0.642105  0.642105    0.642105\nmacro avg      0.617114  0.618452  0.617706  190.000000\nweighted avg   0.644278  0.642105  0.643122  190.000000\n"
     ]
    }
   ],
   "source": [
    "from sklearn.tree import DecisionTreeClassifier\n",
    "from sklearn.metrics import classification_report, accuracy_score, roc_auc_score, ConfusionMatrixDisplay\n",
    "import matplotlib.pyplot as plt\n",
    "\n",
    "# Entrenamos un Decision Tree Classifier\n",
    "tree_model = DecisionTreeClassifier(random_state=1)\n",
    "tree_model.fit(X_train, y_train)\n",
    "\n",
    "# Predecimos las labels para la prueba\n",
    "y_pred = tree_model.predict(X_test)\n",
    "\n",
    "# Matriz de confusión\n",
    "conf_matrix = confusion_matrix(y_test, y_pred)\n",
    "ConfusionMatrixDisplay(conf_matrix, display_labels=tree_model.classes_).plot(cmap=\"Blues\")\n",
    "plt.title(\"Confusion Matrix - Decision Tree\")\n",
    "plt.show()\n",
    "\n",
    "# Tabla de métricas\n",
    "report = classification_report(y_test, y_pred, output_dict=True)\n",
    "metrics_table = pd.DataFrame(report).transpose()\n",
    "print(\"\\nMetrics Table:\")\n",
    "print(metrics_table)"
   ]
  },
  {
   "cell_type": "code",
   "execution_count": 0,
   "metadata": {
    "application/vnd.databricks.v1+cell": {
     "cellMetadata": {
      "byteLimit": 2048000,
      "rowLimit": 10000
     },
     "inputWidgets": {},
     "nuid": "e9655fa1-0dd7-4521-b863-7e9de99c87c1",
     "showTitle": false,
     "tableResultSettingsMap": {},
     "title": ""
    }
   },
   "outputs": [
    {
     "output_type": "stream",
     "name": "stdout",
     "output_type": "stream",
     "text": [
      "Importancia de Características en Árbol de Decisión (Gini):\n           Caracteristica  Importancia\n4   possession_percentage     0.166083\n5           accurate_pass     0.126694\n2            total_tackle     0.107500\n0             won_corners     0.095626\n9              aerial_won     0.086971\n6              total_pass     0.080485\n10           fk_foul_lost     0.077037\n7            total_throws     0.074004\n3             aerial_lost     0.061982\n1             won_contest     0.056486\n8           total_offside     0.047321\n11          att_miss_high     0.019810\n"
     ]
    }
   ],
   "source": [
    "tree_feature_importance_gini = pd.DataFrame({\n",
    "    'Caracteristica': X_train.columns,\n",
    "    'Importancia': tree_model.feature_importances_\n",
    "}).sort_values(by='Importancia', ascending=False)\n",
    "\n",
    "print(\"Importancia de Características en Árbol de Decisión (Gini):\")\n",
    "print(tree_feature_importance_gini)\n"
   ]
  },
  {
   "cell_type": "code",
   "execution_count": 0,
   "metadata": {
    "application/vnd.databricks.v1+cell": {
     "cellMetadata": {
      "byteLimit": 2048000,
      "rowLimit": 10000
     },
     "inputWidgets": {},
     "nuid": "25382a01-9c99-4838-a391-ad817edeb804",
     "showTitle": false,
     "tableResultSettingsMap": {},
     "title": ""
    }
   },
   "outputs": [
    {
     "output_type": "display_data",
     "data": {
      "image/png": "[encoded data removed]"
     },
     "metadata": {
      "application/vnd.databricks.v1+output": {
       "addedWidgets": {},
       "arguments": {},
       "data": "data:image/png;base64,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\n",
       "datasetInfos": [],
       "metadata": {},
       "removedWidgets": [],
       "type": "image"
      }
     },
     "output_type": "display_data"
    }
   ],
   "source": [
    "# Gráfica de Importancia de Características en Árbol de Decisión (Índice Gini)\n",
    "plt.figure(figsize=(10, 6))\n",
    "plt.barh(tree_feature_importance_gini['Caracteristica'], tree_feature_importance_gini['Importancia'], color='lightblue')\n",
    "plt.xlabel(\"Importancia\")\n",
    "plt.ylabel(\"Características\")\n",
    "plt.title(\"Importancia de Características en Árbol de Decisión (Gini)\")\n",
    "plt.gca().invert_yaxis()\n",
    "plt.show()"
   ]
  }
 ],
 "metadata": {
  "application/vnd.databricks.v1+notebook": {
   "computePreferences": null,
   "dashboards": [],
   "environmentMetadata": null,
   "language": "python",
   "notebookMetadata": {
    "pythonIndentUnit": 2
   },
   "notebookName": "Supervisado - Parcial Practico",
   "widgets": {}
  }
 },
 "nbformat": 4,
 "nbformat_minor": 0
}
